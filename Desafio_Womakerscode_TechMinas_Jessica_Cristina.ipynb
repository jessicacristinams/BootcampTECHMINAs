{
  "nbformat": 4,
  "nbformat_minor": 0,
  "metadata": {
    "colab": {
      "provenance": [],
      "include_colab_link": true
    },
    "kernelspec": {
      "name": "python3",
      "display_name": "Python 3"
    },
    "language_info": {
      "name": "python"
    }
  },
  "cells": [
    {
      "cell_type": "markdown",
      "metadata": {
        "id": "view-in-github",
        "colab_type": "text"
      },
      "source": [
        "<a href=\"https://colab.research.google.com/github/jessicacristinams/BootcampTECHMINAs/blob/main/Desafio_Womakerscode_TechMinas_Jessica_Cristina.ipynb\" target=\"_parent\"><img src=\"https://colab.research.google.com/assets/colab-badge.svg\" alt=\"Open In Colab\"/></a>"
      ]
    },
    {
      "cell_type": "markdown",
      "source": [
        "### Bem vindas ao desafio de python do bootcamp Tech Minas da WoMakersCode!\n",
        "Neste notebook, voce deve escrever o codigo python em resposta à cada uma das perguntas. Esteja atenta ao enunciado do problema!\n"
      ],
      "metadata": {
        "id": "Z55f1u4p4oHu"
      }
    },
    {
      "cell_type": "markdown",
      "source": [
        "### Desafio 1\n",
        "Escreva uma função em python que lê dois números inteiros (a,b) e gere como resultado as seguintes operações:adição, subtração, multiplicação e divisão. Execute a funçao na celula abaixo, deixando visivel exemplos de resultados.\n"
      ],
      "metadata": {
        "id": "oFGdIzuu5W7b"
      }
    },
    {
      "cell_type": "code",
      "source": [
        "##### ESCREVER A FUNÇAO ABAIXO\n",
        "def operations(a,b):\n",
        "  #### Escrever abaixo\n",
        "    print('adicao: ', a+b)\n",
        "    print('subtracao: ', a-b)\n",
        "    print('multiplicao: ', a*b)\n",
        "    print('divisao: ', a/b)\n",
        "    return 0;"
      ],
      "metadata": {
        "id": "LzCl-VH14t4a"
      },
      "execution_count": null,
      "outputs": []
    },
    {
      "cell_type": "code",
      "execution_count": null,
      "metadata": {
        "id": "kMNcvrYZ4krA",
        "colab": {
          "base_uri": "https://localhost:8080/"
        },
        "outputId": "d01323c1-bce2-4441-bf27-1107e4425c6f"
      },
      "outputs": [
        {
          "output_type": "stream",
          "name": "stdout",
          "text": [
            "adicao:  9\n",
            "subtracao:  -1\n",
            "multiplicao:  20\n",
            "divisao:  0.8\n"
          ]
        },
        {
          "output_type": "execute_result",
          "data": {
            "text/plain": [
              "0"
            ]
          },
          "metadata": {},
          "execution_count": 5
        }
      ],
      "source": [
        "#### RODAR A FUNÇAO\n",
        "operations(4, 5)"
      ]
    },
    {
      "cell_type": "code",
      "source": [],
      "metadata": {
        "id": "0_GDIGYY_fyf"
      },
      "execution_count": null,
      "outputs": []
    },
    {
      "cell_type": "markdown",
      "source": [
        "### Desafio 2\n",
        "Escreva uma função em python que leia como input uma idade e retorne a classificaçao da ideade do individuo da seguinte forma em:\n",
        "\n",
        "*  Criança – 0 a 12 anos\n",
        "*  Adolescente – 13 a 17 anos\n",
        "*  Adulto – acima de 18 anos\n",
        "\n",
        "\n",
        "Se a idade for um número negativo, mostrar a mensagem que a \"idade inválida\"\n",
        "\n"
      ],
      "metadata": {
        "id": "m_tFtRo5581u"
      }
    },
    {
      "cell_type": "code",
      "source": [
        "##### ESCREVER A FUNCAO ABAIXO\n",
        "def classifica_idade(idade):\n",
        "  #### escrever abaixo\n",
        "  if idade < 0:\n",
        "    print('idade invalida')\n",
        "    return 0\n",
        "  if idade > 0 and idade <= 12:\n",
        "    print('criança')\n",
        "    return 1\n",
        "  if idade > 12 and idade <= 17:\n",
        "    print('adolescente')\n",
        "    return 1\n",
        "  if idade >= 18:\n",
        "    print('adulto')\n",
        "    return 1"
      ],
      "metadata": {
        "id": "cL-OpHGv6hyc"
      },
      "execution_count": null,
      "outputs": []
    },
    {
      "cell_type": "code",
      "source": [
        "#### RODAR A FUNCAO\n",
        "controle = 0\n",
        "while not controle:\n",
        "  idade = int(input('digite a idade'))\n",
        "  controle = classifica_idade(idade)\n",
        "  "
      ],
      "metadata": {
        "id": "49IE2lI66zNO",
        "colab": {
          "base_uri": "https://localhost:8080/"
        },
        "outputId": "2131bd43-401c-4c76-8f56-e7238b637120"
      },
      "execution_count": null,
      "outputs": [
        {
          "output_type": "stream",
          "name": "stdout",
          "text": [
            "digite a idade78\n",
            "adulto\n"
          ]
        }
      ]
    },
    {
      "cell_type": "markdown",
      "source": [
        "### Desafio 3\n",
        "Crie uma função em python que receba como input um determinado horário em horas e retorne a conversao deste horário para segundos\n"
      ],
      "metadata": {
        "id": "wIGGNN_v60s4"
      }
    },
    {
      "cell_type": "code",
      "source": [
        "##### ESCREVER A FUNCAO ABAIXO\n",
        "def time_converter(t):\n",
        "  ##### escrever abaixo\n",
        "  return t *60*60 # considerando t homogeneamente em horas"
      ],
      "metadata": {
        "id": "JOF_tcax7ABd"
      },
      "execution_count": null,
      "outputs": []
    },
    {
      "cell_type": "code",
      "source": [
        "##### RODAR A FUNCAO\n",
        "horas = float(input('digite o tempo em horas: '))\n",
        "print('o tempo',horas,'[h] em segundos é:',time_converter(horas))\n"
      ],
      "metadata": {
        "id": "AJf1IqiC7Mq_",
        "colab": {
          "base_uri": "https://localhost:8080/"
        },
        "outputId": "8e01fc3b-c4d5-4efe-bac1-f898e894f637"
      },
      "execution_count": null,
      "outputs": [
        {
          "output_type": "stream",
          "name": "stdout",
          "text": [
            "digite o tempo em horas: 4\n",
            "o tempo 4.0 [h] em segundos é: 14400.0\n"
          ]
        }
      ]
    },
    {
      "cell_type": "markdown",
      "source": [
        "### Desafio 4\n",
        "Crie uma função em python que calcule a média artimética de uma aluna que cursou a disciplina de Programação I. A funcao deve receber como input as notas M1, M2 e M3 e calcular a média. Após a média calculada, a funcao deve anunciar se a aluna foi aprovado, reprovado ou pegou exame de acordo conm a seguinte classificacao:\n",
        "\n",
        "* Se a média estiver entre 0.0 e 4.0, o aluno está reprovado\n",
        "* Se a média estiver entre 4.1 e 6.0, o aluno pegou exame\n",
        "* Se a média for maior do que 6.0, o aluno está aprovado\n",
        "* Se o aluno pegou exame, deve ser lida a nota do exame. Se a nota do exame for maior do que 6.0, está aprovado, senão; está reprovado\n"
      ],
      "metadata": {
        "id": "RCrTUh1E7OWn"
      }
    },
    {
      "cell_type": "code",
      "source": [
        "##### ESCREVER A FUNCAO ABAIXO\n",
        "def calcula_media(M1,M2,M3):\n",
        "  media = (M1+M2+M3)/3;\n",
        "  if media >= 0 and media <= 4.0:\n",
        "      print(\"Aluno reprovado. Média igual a: \", media)\n",
        "  if media >= 4.1 and media < 6.0:\n",
        "      print(\"O aluno pegou exame. Média igual a: \",media)\n",
        "      exame = float(input( \"Digite a nota do exame: \"))\n",
        "      if exame > 6:\n",
        "          print(\"Aluno aprovado. Nota do exame maior que seis.\")\n",
        "      else:\n",
        "             (print(\"Aluno reprovado. Nota do exame menor ou igual a seis.\"))\n",
        "              \n",
        "  if media >= 6:\n",
        "        print(\"Aluno aprovado. Média igual a: \", media)\n",
        "  return 0;\n",
        "\n",
        "\n"
      ],
      "metadata": {
        "id": "VzNdyWZE70oc"
      },
      "execution_count": null,
      "outputs": []
    },
    {
      "cell_type": "code",
      "source": [
        "5#teste da função\n",
        "media1 = float(input(\"Digite o valor da primeira nota: \"))\n",
        "media2 = float(input(\"Digite o valor da segunda nota: \"))\n",
        "media3 = float(input(\"Digite o valor da terceira nota: \"))\n",
        "calcula_media(media1,media2,media3)"
      ],
      "metadata": {
        "id": "cY7vMECS77QY",
        "colab": {
          "base_uri": "https://localhost:8080/"
        },
        "outputId": "c6174f56-0719-48c1-8bff-2c422d8d8835"
      },
      "execution_count": null,
      "outputs": [
        {
          "output_type": "stream",
          "name": "stdout",
          "text": [
            "Digite o valor da primeira nota: 5\n",
            "Digite o valor da segunda nota: 9\n",
            "Digite o valor da terceira nota: 7\n",
            "Aluno aprovado. Média igual a:  7.0\n"
          ]
        },
        {
          "output_type": "execute_result",
          "data": {
            "text/plain": [
              "0"
            ]
          },
          "metadata": {},
          "execution_count": 11
        }
      ]
    },
    {
      "cell_type": "markdown",
      "source": [
        "### Desafio 5\n",
        "Dado a seguinte lista: \n",
        "* equipes_bootcamp_dados = [BerthaLutz, GraceHopper, JaquelineGoes, SarahGilbert]\n",
        "\n",
        "1. Crie uma função em python que conte quantas vezes aparece a letra a em cada elemento da lista. Seu resultado deve ser uma lista . exemplo: [4,0,1,2]\n",
        "\n",
        "2. Leia a lista de alunas: ['Maria', 'Ana','Camila','Mariana','Elaine','Patricia','Marina','Erica','Larissa','Luiza', 'Nicole','Bruna']\n",
        "\n",
        "3. Crie uma função que atribua cada uma das alunas em uma das equipes da lista equipes_bootcamp_dados, de modo que cada equipe pode ter 3 alunas no máximo.\n",
        "\n",
        " Para isso ordene em alfabética. O seu resultado deve ser um dicionário python. exemplo {'BerthaLutz': ['Ana', 'Bruna', 'Camila'], 'GraceHopper': ['Elaine','Erika','Luiza'],... }\n"
      ],
      "metadata": {
        "id": "eI9AkpYT788b"
      }
    },
    {
      "cell_type": "code",
      "source": [
        "##### ESCREVER A FUNCAO DA ETAPA 1\n",
        "def contador(equipes_bootcamp_dados):\n",
        "  #### escrever abaixo\n",
        "\n",
        "  i=len(equipes_bootcamp_dados)\n",
        "  lista=equipes_bootcamp_dados \n",
        "                                 \n",
        "  j=0\n",
        "  while j<i:\n",
        "    lista[j]=equipes_bootcamp_dados[j].count(\"a\")\n",
        "    j=j+1\n",
        "  return lista"
      ],
      "metadata": {
        "id": "Zk6U7KnL8WBd"
      },
      "execution_count": null,
      "outputs": []
    },
    {
      "cell_type": "code",
      "source": [
        "###### RODAR A ETAPA 1\n",
        "equipes_bootcamp_dados=[\"BerthaLutz\", \"GraceHopper\", \"JaquelineGoes\", \"SarahGilbert\"]\n",
        "lista=contador(equipes_bootcamp_dados)\n",
        "print(lista)"
      ],
      "metadata": {
        "id": "snTgwxt_8hcj",
        "colab": {
          "base_uri": "https://localhost:8080/"
        },
        "outputId": "e50e3a2e-e5be-43e8-9123-9f8ec5a8c9b5"
      },
      "execution_count": null,
      "outputs": [
        {
          "output_type": "stream",
          "name": "stdout",
          "text": [
            "[1, 1, 1, 2]\n"
          ]
        }
      ]
    },
    {
      "cell_type": "code",
      "source": [
        "##### LER A ETAPA 2\n",
        "equipes_bootcamps_dados = ['BerthaLutz', 'GraceHopper', 'JaquelineGoes', 'SarahGilbert']\n",
        "lista_de_alunas = ['Maria', 'Ana', 'Camila', 'Mariana', 'Elaine', 'Patricia',\n",
        "                   'Marina', 'Erica', 'Larissa' 'Luiza', 'Nicole', 'Bruna']\n",
        "lista_alunas = sorted(lista_de_alunas)\n",
        "print(lista_alunas)"
      ],
      "metadata": {
        "id": "xgkMVykO8jB-",
        "colab": {
          "base_uri": "https://localhost:8080/"
        },
        "outputId": "ee29fc40-2e66-4f94-a971-0297d0408ffe"
      },
      "execution_count": null,
      "outputs": [
        {
          "output_type": "stream",
          "name": "stdout",
          "text": [
            "['Ana', 'Bruna', 'Camila', 'Elaine', 'Erica', 'LarissaLuiza', 'Maria', 'Mariana', 'Marina', 'Nicole', 'Patricia']\n"
          ]
        }
      ]
    },
    {
      "cell_type": "code",
      "source": [
        "##### ESCREVER A FUNCAO DA ETAPA 3\n",
        "def ordenacao(lista_alunas, equipes_bootcamp_dados):\n",
        "  ### escrever abaixo\n",
        "  i = len(equipes_bootcamp_dados);\n",
        "  j = 0\n",
        "  dicionario = {}\n",
        "  while j < i:\n",
        "\n",
        "    dicionario[equipes_bootcamp_dados[j]] = lista_alunas[j:j+3]\n",
        "    j = j+1\n",
        "    \n",
        "  return dicionario"
      ],
      "metadata": {
        "id": "_ySYFooB8jFF"
      },
      "execution_count": null,
      "outputs": []
    },
    {
      "cell_type": "code",
      "source": [
        "##### RODAR A FUNCAO DA ETAPA 3\n",
        "dicionario = ordenacao(lista_alunas, equipes_bootcamp_dados)\n",
        "print(dicionario)"
      ],
      "metadata": {
        "id": "8qZnUInj9Uvr",
        "colab": {
          "base_uri": "https://localhost:8080/"
        },
        "outputId": "01f0b81f-d3ac-4f38-b935-d7ef5bafeac5"
      },
      "execution_count": null,
      "outputs": [
        {
          "output_type": "stream",
          "name": "stdout",
          "text": [
            "{1: ['Camila', 'Elaine', 'Erica'], 2: ['Elaine', 'Erica', 'LarissaLuiza']}\n"
          ]
        }
      ]
    },
    {
      "cell_type": "markdown",
      "source": [
        "### Desafio 6\n",
        "Escreva uma função em python que leia uma temperatura em graus Celsius e retorne a conversao dela em graus Fahrenheit. \n",
        "\n",
        "A fórmula de conversão é F = (9 * C + 160) / 5, na qual F é a temperatura em Fahrenheit e C é a temperatura em graus Celsius\n",
        "\n",
        "\n"
      ],
      "metadata": {
        "id": "AXoFPjyx82gG"
      }
    },
    {
      "cell_type": "code",
      "source": [
        "##### ESCREVER A FUNCAO\n",
        "def conversor_temperatura():\n",
        "  ### escrever abaixo\n",
        "  temp = float(input('digite a temperatura em celsius: '))\n",
        "  return (9 * temp + 160)/5\n",
        "\n",
        "\n"
      ],
      "metadata": {
        "id": "OsCU2Msu9D9o"
      },
      "execution_count": null,
      "outputs": []
    },
    {
      "cell_type": "code",
      "source": [
        "##### RODAR A FUNCAO\n",
        "fahrenheit = conversor_temperatura()\n",
        "print('a temperatura em Fahrenheit é: ',fahrenheit)\n"
      ],
      "metadata": {
        "id": "UBCdsBgi9Xa2",
        "colab": {
          "base_uri": "https://localhost:8080/"
        },
        "outputId": "6027b5b8-d302-4926-9406-2b9602264e25"
      },
      "execution_count": null,
      "outputs": [
        {
          "output_type": "stream",
          "name": "stdout",
          "text": [
            "digite a temperatura em celsius: 80\n",
            "a temperatura em Fahrenheit é:  176.0\n"
          ]
        }
      ]
    }
  ]
}